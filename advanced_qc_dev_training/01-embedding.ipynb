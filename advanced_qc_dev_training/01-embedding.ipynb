{
 "cells": [
  {
   "cell_type": "markdown",
   "metadata": {},
   "source": [
    "# Solving an Exactly-One-True problem\n",
    "\n",
    "## Defining the problem\n",
    "Suppose we want to solve the following problem:\n",
    "\n",
    "$$\\textbf{Among three conditions, there is only one truth.}$$\n",
    "\n",
    "Let's use three binary variables $a$, $b$, and $c$ to denote the conditions. \n",
    "\n",
    "The truth table that satisfies this condition is:\n",
    "\n",
    "\\begin{array}{c c c c } \\hline\n",
    "a & b & c & \\\\ \\hline\n",
    "0 & 0 & 0 & \\\\ \\hline\n",
    "1 & 0 & 0 & \\checkmark\\\\ \\hline\n",
    "0 & 1 & 0 & \\checkmark\\\\ \\hline\n",
    "1 & 1 & 0 & \\\\ \\hline\n",
    "0 & 0 & 1 & \\checkmark\\\\ \\hline\n",
    "1 & 0 & 1 & \\\\ \\hline\n",
    "0 & 1 & 1 & \\\\ \\hline\n",
    "1 & 1 & 1 & \\\\ \\hline\n",
    "\\end{array}\n",
    "\n",
    "Note that we assign 1 to True and 0 to False.\n"
   ]
  },
  {
   "cell_type": "markdown",
   "metadata": {},
   "source": [
    "## Converting to a QUBO problem\n",
    "The above truth table can also be written as an equation:\n",
    "\n",
    "$$a + b + c = 1$$\n",
    "\n",
    "which is equivalent to $(a+b+c-1)^2 = 0$.\n",
    "\n",
    "If we define the objective function as \n",
    "\n",
    "$$E(a,b,c) = (a+b+c-1)^2 = 2ab + 2ac + 2bc - a - b -c +1,$$\n",
    "solving $\\min E(a,b,c)$ will give us the optimal solution. Here we make use of the binary nature of variables, that is $a^2 = a$.\n",
    "\n",
    "Note: Removing the constant $1$ from the objective function doesn't change the solution, therefore we will  minimize the following energy function in the rest of this notebook:\n",
    "\n",
    "$$E(a,b,c) = 2ab + 2ac + 2bc - a - b -c $$\n",
    "\n"
   ]
  },
  {
   "cell_type": "markdown",
   "metadata": {},
   "source": [
    "Here in our QUBO:\n",
    "* Each variable is a node weighted with its linear coefficient\n",
    "* Each quadratic term is an edge with a strength between the nodes\n",
    "\n",
    "Then, our QUBO can be represented by the following undirected graph:\n",
    "\n",
    "<img src=\"images/one_true1.png\"/>\n"
   ]
  },
  {
   "cell_type": "markdown",
   "metadata": {},
   "source": [
    "## Putting the QUBO on Chimera\n",
    "\n",
    "### Chimera structure\n",
    "The Chimera architecture comprises sets of connected unit cells, each with four horizontal qubits connected to four vertical qubits via couplers. Unit cells are tiled vertically and horizontally with adjacent qubits connected, creating a lattice of sparsely connected qubits, shown as follows:\n",
    "<img src=\"https://cloud.dwavesys.com/qubist/docs/sys_intro_getting_started/_images/chimera.png\">\n",
    "\n",
    "The notation C$N$ refers to a Chimera graph consisting of an $N\\times N$ grid of unit cells. The D-Wave 2000Q QPU supports a C16 Chimera graph: its 2048 qubits are logically mapped into a $16\\times 16$ matrix of unit cells of 8 qubits.\n",
    "\n",
    "In a D-Wave QPU, the set of qubits and couplers that are available for computation is known as the working graph. The yield (working qubits) of a __working graph__ is typically less than the total number of qubits and couplers that are fabricated and physically present in the QPU.\n",
    "\n",
    "More descriptions about Chimera graph can be found [here](https://cloud.dwavesys.com/qubist/docs/sys_intro_getting_started/chimera/).\n",
    "\n",
    "### Minor-embedding\n",
    "\n",
    "<div class=\"alert alert-warning\" role=\"alert\" style=\"margin: 10px\"> \n",
    "Our question is: How do we put this QUBO on D-Wave quantum computer?\n",
    "</div>\n",
    "\n",
    "<img src=\"images/one_true4.png\">\n",
    "\n",
    "A technique that can achieve this is called _minor-embedding_. A minor-embedding of a graph $G$ in a quantum hardware graph $U$ is a subgraph of $U$ such that $G$ can be obtained from it by contracting edges [Choi2010](https://arxiv.org/pdf/1001.3116.pdf). A minor-embedding of graph requires creating virtual qubit out of multiple physical qubits using a concept called _chaining_.\n",
    "\n",
    "### Embedding a three-sided graph $K_3$\n",
    "If you look at the Chimera graph, there are no triangles, all of the cycles are of at least length 4. \n",
    "\n",
    "Using the concept of minor-embedding, we can make use of the cycle of length 4 to _construct_ a complete graph $K_3$. The procedure is illustrated in the following graph, where a thick blue line is used to denote that $2$ and $6$ should act as one logical qubit for variable $a$, which implies we need to make sure that chaining them up doesn't contribute to the total energy, i.e.,\n",
    "\n",
    "$$w_{26}(q_2 - q_6)^2 = 0$$\n",
    "\n",
    "Expanding and carefully manipulating the LHS yields $-w_{26}q_2q_6 + 0.5w_{26}q_2 + 0.5w_{26}q_6$\n",
    "\n",
    "\n",
    "<img src='images/k3_on_chimera.png'>\n",
    "\n",
    "Here are some embedding rules that we should keep in mind:\n",
    "\n",
    "* A logical qubit can be mapped to $N$ physical qubits as long as the physical qubits form a connected set.  We call this a chain.\n",
    "\n",
    "* For each physical coupler connecting two physical qubits in the same chain, include QUBO terms to cause the two physical qubits to align.\n",
    "\n",
    "* When a logical qubit is mapped to an $N$-qubit chain, divide the bias (weight) for the logical qubit by $N$ and apply that bias to each qubit in the chain.\n",
    "\n",
    "* Split the coupling strength between two logical qubits over all available physical couplers connecting the chains corresponding to the logical qubits.\n",
    "\n",
    "Following the embedding rules, we have:\n",
    "\n",
    "\\begin{array}{ccccc} \\hline\n",
    "qubit & 2 & 6 & 3 & 7 \\\\ \\hline\n",
    "bias & -0.5+0.5w_{26} &  -0.5+0.5w_{26} & -1 & -1 \\\\\\hline\n",
    "var & a & a & b & c\\\\\\hline\n",
    "\\end{array}\n",
    "\n",
    "\\begin{array}{ccccc} \\hline\n",
    "coupler & (2,6) & (2,7) & (3,6) & (3,7) \\\\ \\hline\n",
    "weights & -w_{26} & 2 & 2 & 2\\\\\\hline\n",
    "\\end{array}\n",
    "\n",
    "\n",
    "Here, $w_{26}$ is the chain strength. Choosing a value of $w_{26} = 3$ is sufficient in this example. \n",
    "\n",
    "<div class=\"alert alert-warning\" role=\"alert\" style=\"margin: 10px\"> \n",
    "$\\textbf{NOTE:}$ Choosing the proper chain strength normally takes a few tries.\n",
    "</div>\n",
    "\n",
    "Remember that the programmable coupling strength is $[-1, 1]$. We need to scale down $w_{26}$ by 3, which will automatically scale all the biases and weights by 3 as well. The QUBO table becomes\n",
    "\n",
    "\\begin{array}{ccccc} \\hline\n",
    "qubit & 2 & 6 & 3 & 7 \\\\ \\hline\n",
    "bias & 1/3 &  1/3 & -1/3 & -1/3 \\\\\\hline\n",
    "var & a & a & b & c\\\\\\hline\n",
    "\\end{array}\n",
    "\n",
    "\\begin{array}{ccccc} \\hline\n",
    "coupler & (2,6) & (2,7) & (3,6) & (3,7) \\\\ \\hline\n",
    "weights & -1 & 2/3 & 2/3 & 2/3\\\\\\hline\n",
    "\\end{array}\n",
    "\n",
    "<div class=\"alert alert-warning\" role=\"alert\" style=\"margin: 10px\"> \n",
    "$\\textbf{NOTE:}$ In Ocean, the parameter `auto_scale=True` is enabled by default to handle the scaling automatically. If you want to take care of the problem scaling by yourself, you should set `auto_scale=False`. Under the setting of `auto_scale=False`, submitting a problem with bias values and/or coupler strength values that are out of the correct ranges will raise errors.\n",
    "</div>\n"
   ]
  },
  {
   "cell_type": "markdown",
   "metadata": {},
   "source": [
    "## Submitting problems to the quantum computer\n",
    "Now we can submit our problem to the quantum computer. "
   ]
  },
  {
   "cell_type": "code",
   "execution_count": 1,
   "metadata": {},
   "outputs": [
    {
     "name": "stdout",
     "output_type": "stream",
     "text": [
      "Q:{(2, 2): 1.0, (6, 6): 1.0, (3, 3): -1.0, (7, 7): -1.0, (2, 7): 2.0, (2, 6): -3.0, (3, 6): 2.0, (3, 7): 2.0}\n"
     ]
    }
   ],
   "source": [
    "from __future__ import print_function\n",
    "from dwave.system.samplers import DWaveSampler\n",
    "\n",
    "# create sampler.   \n",
    "sampler = DWaveSampler(solver={'qpu': True})   # Some accounts need to replace this line with the next:\n",
    "# sampler = DWaveSampler(token = 'my_token', solver='solver_name')\n",
    "\n",
    "# define the QUBO problem\n",
    "w = 3.\n",
    "Q = {(2, 2):-0.5+0.5*w, (6,6):-0.5+0.5*w, (3,3):-1., (7,7):-1., \n",
    "     (2,7):2., (2,6):-w, (3,6):2., (3,7):2.}\n",
    "print('Q:{}'.format(Q))\n",
    "result = sampler.sample_qubo(Q, num_reads=1000)"
   ]
  },
  {
   "cell_type": "code",
   "execution_count": 2,
   "metadata": {},
   "outputs": [
    {
     "name": "stdout",
     "output_type": "stream",
     "text": [
      "a a b c\n",
      "0 0 1 0 351\n",
      "0 0 0 1 296\n",
      "1 1 0 0 353\n"
     ]
    }
   ],
   "source": [
    "# look at the statistics of the samples\n",
    "print('a a b c')\n",
    "\n",
    "R = iter(result)\n",
    "E = iter(result.data())\n",
    "for line in result:\n",
    "    sample = next(R)\n",
    "    data = next(E)\n",
    "    energy = data.energy\n",
    "    occurrences = data.num_occurrences\n",
    "    print(sample[2], sample[6], sample[3], sample[7], occurrences)"
   ]
  },
  {
   "cell_type": "markdown",
   "metadata": {},
   "source": [
    "<div class=\"alert alert-success\" role=\"alert\" style=\"margin: 10px\"> \n",
    "Exercise: Can you test the sample statistics with different chain strength?\n",
    "</div>"
   ]
  },
  {
   "cell_type": "markdown",
   "metadata": {},
   "source": [
    "# Embedding tools\n",
    "## Ocean's embedding package `minorminer`\n",
    "In this example, we are going to show how we can embed a graph using Ocean's `minorminer` package. As a reminder, a complete graph is a simple undirected graph in which every pair of distinct vertices is connected by a unique edge.\n",
    "\n",
    "<img src='images/k1_k5.png'>"
   ]
  },
  {
   "cell_type": "code",
   "execution_count": 3,
   "metadata": {
    "scrolled": true
   },
   "outputs": [
    {
     "name": "stdout",
     "output_type": "stream",
     "text": [
      "initialized\n",
      "embedding found.\n",
      "max chain length 2; num max chains=3\n",
      "reducing chain lengths\n"
     ]
    }
   ],
   "source": [
    "# import package from dwave-system\n",
    "from minorminer import find_embedding\n",
    "\n",
    "# define a K_5 graph\n",
    "S_size = 5\n",
    "S = {}\n",
    "for i in range(S_size):\n",
    "    for j in range(S_size):\n",
    "        S[(i, j)] = 1\n",
    "\n",
    "# Get the set of couplers from our sampler\n",
    "A = sampler.edgelist\n",
    "\n",
    "# Embed our problem onto our set of couplers\n",
    "embeddings = find_embedding(S, A, verbose=2, random_seed=100)"
   ]
  },
  {
   "cell_type": "code",
   "execution_count": 4,
   "metadata": {},
   "outputs": [
    {
     "name": "stdout",
     "output_type": "stream",
     "text": [
      "{0: [998, 992], 1: [999, 994], 2: [993], 3: [996], 4: [995, 997]}\n",
      "5\n"
     ]
    }
   ],
   "source": [
    "# inspect the embeddings\n",
    "print(embeddings)\n",
    "print(len(embeddings))"
   ]
  },
  {
   "cell_type": "markdown",
   "metadata": {},
   "source": [
    "These embeddings will look something like this:"
   ]
  },
  {
   "cell_type": "code",
   "execution_count": 5,
   "metadata": {},
   "outputs": [
    {
     "data": {
      "text/html": [
       "\n",
       "        <iframe\n",
       "            width=\"600\"\n",
       "            height=\"300\"\n",
       "            src=\"images/k5.pdf\"\n",
       "            frameborder=\"0\"\n",
       "            allowfullscreen\n",
       "        ></iframe>\n",
       "        "
      ],
      "text/plain": [
       "<IPython.lib.display.IFrame at 0x120535450>"
      ]
     },
     "execution_count": 5,
     "metadata": {},
     "output_type": "execute_result"
    }
   ],
   "source": [
    "from IPython.display import IFrame\n",
    "IFrame(\"images/k5.pdf\", width=600, height=300)"
   ]
  },
  {
   "cell_type": "markdown",
   "metadata": {},
   "source": [
    "<div class=\"alert alert-success\" role=\"alert\" style=\"margin: 10px\"> \n",
    "\n",
    "__Exercise__: Embed a complete $K8$ graph\n",
    "\n",
    "</div>"
   ]
  },
  {
   "cell_type": "markdown",
   "metadata": {},
   "source": [
    "## Ocean's embedding tool `EmbeddingComposite`\n",
    "Using the `EmbeddingComposite` tool, we can combine solving and embedding in one step.\n",
    "\n",
    "For example, we can embed and solve our QUBO that we established in the beginning of this notebook for the Exactly-One-Truth Problem.  As a reminder, this QUBO or energy function is given by : $$E(a,b,c) = 2ab + 2ac + 2bc - a - b -c.$$\n",
    "\n"
   ]
  },
  {
   "cell_type": "code",
   "execution_count": null,
   "metadata": {},
   "outputs": [],
   "source": [
    "# Import the EmbeddingComposite tool\n",
    "from dwave.system.composites import EmbeddingComposite\n",
    "\n",
    "# Define our QUBO dictionary\n",
    "Q = {('a','b'): 2, ('a','c'): 2, ('b','c'): 2, ('a','a'):-1, ('b','b'):-1, ('c','c'): -1}\n",
    "\n",
    "# Set up our sampler\n",
    "sampler = EmbeddingComposite(DWaveSampler())   # Some accounts need to replace this line with the next:\n",
    "# sampler = EmbeddingComposite(DWaveSampler(token = 'my_token', solver='solver_name'))\n",
    "\n",
    "# Run our QUBO through the EmbeddingComposite tool to the QPU and return our results\n",
    "result = sampler.sample_qubo(Q, chain_strength=3, num_reads=1000)\n",
    "\n",
    "# Print our results\n",
    "print('a b c')\n",
    "R = iter(result)\n",
    "E = iter(result.data())\n",
    "for line in result:\n",
    "    sample = next(R)\n",
    "    data = next(E)\n",
    "    energy = data.energy\n",
    "    occurrences = data.num_occurrences\n",
    "    print(sample['a'], sample['b'], sample['c'], occurrences)"
   ]
  },
  {
   "cell_type": "markdown",
   "metadata": {},
   "source": [
    "# Examples of Embeddings: \n",
    "\n",
    "<div class=\"alert alert-warning\" role=\"alert\" style=\"margin: 10px\"> \n",
    "    $\\textbf{NOTE:}$ Make sure you carefully choose the chain strength!\n",
    "<div>"
   ]
  },
  {
   "cell_type": "markdown",
   "metadata": {},
   "source": [
    "### Largest bipartite graph with chain_length = 4"
   ]
  },
  {
   "cell_type": "code",
   "execution_count": null,
   "metadata": {},
   "outputs": [],
   "source": [
    "from IPython.display import IFrame\n",
    "IFrame(\"images/largest_bipartite_chain4.pdf\", width=600, height=300)"
   ]
  },
  {
   "cell_type": "markdown",
   "metadata": {},
   "source": [
    "### Largest bipartite graph with any chain length"
   ]
  },
  {
   "cell_type": "code",
   "execution_count": null,
   "metadata": {},
   "outputs": [],
   "source": [
    "from IPython.display import IFrame\n",
    "IFrame(\"images/largest_bipartite.pdf\", width=600, height=300)"
   ]
  },
  {
   "cell_type": "markdown",
   "metadata": {},
   "source": [
    "### Largest complete graph with chain_length=4"
   ]
  },
  {
   "cell_type": "code",
   "execution_count": null,
   "metadata": {},
   "outputs": [],
   "source": [
    "from IPython.display import IFrame\n",
    "IFrame(\"images/largest_clique_chain4.pdf\", width=600, height=300)"
   ]
  },
  {
   "cell_type": "markdown",
   "metadata": {},
   "source": [
    "### Largest complete graph with any chain length"
   ]
  },
  {
   "cell_type": "code",
   "execution_count": null,
   "metadata": {},
   "outputs": [],
   "source": [
    "from IPython.display import IFrame\n",
    "IFrame(\"images/largest_clique.pdf\", width=600, height=300)"
   ]
  },
  {
   "cell_type": "code",
   "execution_count": null,
   "metadata": {},
   "outputs": [],
   "source": [
    "# shutdown the kernel\n",
    "# %reset -f"
   ]
  }
 ],
 "metadata": {
  "kernelspec": {
   "display_name": "Python 3",
   "language": "python",
   "name": "python3"
  },
  "language_info": {
   "codemirror_mode": {
    "name": "ipython",
    "version": 3
   },
   "file_extension": ".py",
   "mimetype": "text/x-python",
   "name": "python",
   "nbconvert_exporter": "python",
   "pygments_lexer": "ipython3",
   "version": "3.7.7"
  },
  "toc": {
   "base_numbering": 1,
   "nav_menu": {},
   "number_sections": true,
   "sideBar": true,
   "skip_h1_title": false,
   "title_cell": "Table of Contents",
   "title_sidebar": "Contents",
   "toc_cell": false,
   "toc_position": {},
   "toc_section_display": true,
   "toc_window_display": true
  }
 },
 "nbformat": 4,
 "nbformat_minor": 1
}
